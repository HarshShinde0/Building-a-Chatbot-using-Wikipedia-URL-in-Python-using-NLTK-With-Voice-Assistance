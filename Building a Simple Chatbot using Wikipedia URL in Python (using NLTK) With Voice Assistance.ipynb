{
 "cells": [
  {
   "cell_type": "markdown",
   "metadata": {},
   "source": [
    "Building a Simple Chatbot using Wikipedia URL in Python (using NLTK) With Voice Assistance"
   ]
  },
  {
   "cell_type": "markdown",
   "metadata": {},
   "source": [
    "Project By - HARSH SHINDE"
   ]
  },
  {
   "cell_type": "markdown",
   "metadata": {},
   "source": [
    "NLP\n",
    "NLP is a way for computers to analyze, understand, and derive meaning from human language in a smart and useful way. By utilizing NLP, developers can organize and structure knowledge to perform tasks such as automatic summarization, translation, named entity recognition, relationship extraction, sentiment analysis, speech recognition, and topic segmentation."
   ]
  },
  {
   "cell_type": "code",
   "execution_count": 1,
   "metadata": {},
   "outputs": [
    {
     "name": "stdout",
     "output_type": "stream",
     "text": [
      "Requirement already satisfied: nltk in c:\\users\\lmfph\\anaconda3\\envs\\tfgpu\\lib\\site-packages (3.8.1)\n",
      "Requirement already satisfied: click in c:\\users\\lmfph\\anaconda3\\envs\\tfgpu\\lib\\site-packages (from nltk) (8.1.7)\n",
      "Requirement already satisfied: joblib in c:\\users\\lmfph\\anaconda3\\envs\\tfgpu\\lib\\site-packages (from nltk) (1.3.2)\n",
      "Requirement already satisfied: regex>=2021.8.3 in c:\\users\\lmfph\\anaconda3\\envs\\tfgpu\\lib\\site-packages (from nltk) (2023.12.25)\n",
      "Requirement already satisfied: tqdm in c:\\users\\lmfph\\anaconda3\\envs\\tfgpu\\lib\\site-packages (from nltk) (4.66.2)\n",
      "Requirement already satisfied: colorama in c:\\users\\lmfph\\anaconda3\\envs\\tfgpu\\lib\\site-packages (from click->nltk) (0.4.6)\n",
      "Note: you may need to restart the kernel to use updated packages.\n"
     ]
    }
   ],
   "source": [
    "pip install nltk"
   ]
  },
  {
   "cell_type": "code",
   "execution_count": 2,
   "metadata": {},
   "outputs": [
    {
     "name": "stdout",
     "output_type": "stream",
     "text": [
      "Requirement already satisfied: newspaper3k in c:\\users\\lmfph\\anaconda3\\envs\\tfgpu\\lib\\site-packages (0.2.8)Note: you may need to restart the kernel to use updated packages.\n",
      "\n",
      "Requirement already satisfied: beautifulsoup4>=4.4.1 in c:\\users\\lmfph\\anaconda3\\envs\\tfgpu\\lib\\site-packages (from newspaper3k) (4.12.2)\n",
      "Requirement already satisfied: Pillow>=3.3.0 in c:\\users\\lmfph\\anaconda3\\envs\\tfgpu\\lib\\site-packages (from newspaper3k) (10.2.0)\n",
      "Requirement already satisfied: PyYAML>=3.11 in c:\\users\\lmfph\\anaconda3\\envs\\tfgpu\\lib\\site-packages (from newspaper3k) (6.0.1)\n",
      "Requirement already satisfied: cssselect>=0.9.2 in c:\\users\\lmfph\\anaconda3\\envs\\tfgpu\\lib\\site-packages (from newspaper3k) (1.2.0)\n",
      "Requirement already satisfied: lxml>=3.6.0 in c:\\users\\lmfph\\anaconda3\\envs\\tfgpu\\lib\\site-packages (from newspaper3k) (5.1.0)\n",
      "Requirement already satisfied: nltk>=3.2.1 in c:\\users\\lmfph\\anaconda3\\envs\\tfgpu\\lib\\site-packages (from newspaper3k) (3.8.1)\n",
      "Requirement already satisfied: requests>=2.10.0 in c:\\users\\lmfph\\anaconda3\\envs\\tfgpu\\lib\\site-packages (from newspaper3k) (2.31.0)\n",
      "Requirement already satisfied: feedparser>=5.2.1 in c:\\users\\lmfph\\anaconda3\\envs\\tfgpu\\lib\\site-packages (from newspaper3k) (6.0.11)\n",
      "Requirement already satisfied: tldextract>=2.0.1 in c:\\users\\lmfph\\anaconda3\\envs\\tfgpu\\lib\\site-packages (from newspaper3k) (5.1.1)\n",
      "Requirement already satisfied: feedfinder2>=0.0.4 in c:\\users\\lmfph\\anaconda3\\envs\\tfgpu\\lib\\site-packages (from newspaper3k) (0.0.4)\n",
      "Requirement already satisfied: jieba3k>=0.35.1 in c:\\users\\lmfph\\anaconda3\\envs\\tfgpu\\lib\\site-packages (from newspaper3k) (0.35.1)\n",
      "Requirement already satisfied: python-dateutil>=2.5.3 in c:\\users\\lmfph\\anaconda3\\envs\\tfgpu\\lib\\site-packages (from newspaper3k) (2.8.2)\n",
      "Requirement already satisfied: tinysegmenter==0.3 in c:\\users\\lmfph\\anaconda3\\envs\\tfgpu\\lib\\site-packages (from newspaper3k) (0.3)\n",
      "Requirement already satisfied: soupsieve>1.2 in c:\\users\\lmfph\\anaconda3\\envs\\tfgpu\\lib\\site-packages (from beautifulsoup4>=4.4.1->newspaper3k) (2.5)\n",
      "Requirement already satisfied: six in c:\\users\\lmfph\\anaconda3\\envs\\tfgpu\\lib\\site-packages (from feedfinder2>=0.0.4->newspaper3k) (1.16.0)\n",
      "Requirement already satisfied: sgmllib3k in c:\\users\\lmfph\\anaconda3\\envs\\tfgpu\\lib\\site-packages (from feedparser>=5.2.1->newspaper3k) (1.0.0)\n",
      "Requirement already satisfied: click in c:\\users\\lmfph\\anaconda3\\envs\\tfgpu\\lib\\site-packages (from nltk>=3.2.1->newspaper3k) (8.1.7)\n",
      "Requirement already satisfied: joblib in c:\\users\\lmfph\\anaconda3\\envs\\tfgpu\\lib\\site-packages (from nltk>=3.2.1->newspaper3k) (1.3.2)\n",
      "Requirement already satisfied: regex>=2021.8.3 in c:\\users\\lmfph\\anaconda3\\envs\\tfgpu\\lib\\site-packages (from nltk>=3.2.1->newspaper3k) (2023.12.25)\n",
      "Requirement already satisfied: tqdm in c:\\users\\lmfph\\anaconda3\\envs\\tfgpu\\lib\\site-packages (from nltk>=3.2.1->newspaper3k) (4.66.2)\n",
      "Requirement already satisfied: charset-normalizer<4,>=2 in c:\\users\\lmfph\\anaconda3\\envs\\tfgpu\\lib\\site-packages (from requests>=2.10.0->newspaper3k) (2.0.4)\n",
      "Requirement already satisfied: idna<4,>=2.5 in c:\\users\\lmfph\\anaconda3\\envs\\tfgpu\\lib\\site-packages (from requests>=2.10.0->newspaper3k) (3.4)\n",
      "Requirement already satisfied: urllib3<3,>=1.21.1 in c:\\users\\lmfph\\anaconda3\\envs\\tfgpu\\lib\\site-packages (from requests>=2.10.0->newspaper3k) (2.1.0)\n",
      "Requirement already satisfied: certifi>=2017.4.17 in c:\\users\\lmfph\\anaconda3\\envs\\tfgpu\\lib\\site-packages (from requests>=2.10.0->newspaper3k) (2024.2.2)\n",
      "Requirement already satisfied: requests-file>=1.4 in c:\\users\\lmfph\\anaconda3\\envs\\tfgpu\\lib\\site-packages (from tldextract>=2.0.1->newspaper3k) (2.0.0)\n",
      "Requirement already satisfied: filelock>=3.0.8 in c:\\users\\lmfph\\anaconda3\\envs\\tfgpu\\lib\\site-packages (from tldextract>=2.0.1->newspaper3k) (3.13.1)\n",
      "Requirement already satisfied: colorama in c:\\users\\lmfph\\anaconda3\\envs\\tfgpu\\lib\\site-packages (from click->nltk>=3.2.1->newspaper3k) (0.4.6)\n"
     ]
    }
   ],
   "source": [
    "pip install newspaper3k"
   ]
  },
  {
   "cell_type": "code",
   "execution_count": 3,
   "metadata": {},
   "outputs": [
    {
     "name": "stdout",
     "output_type": "stream",
     "text": [
      "Requirement already satisfied: pyttsx3 in c:\\users\\lmfph\\anaconda3\\envs\\tfgpu\\lib\\site-packages (2.90)\n",
      "Requirement already satisfied: comtypes in c:\\users\\lmfph\\anaconda3\\envs\\tfgpu\\lib\\site-packages (from pyttsx3) (1.3.0)\n",
      "Requirement already satisfied: pypiwin32 in c:\\users\\lmfph\\anaconda3\\envs\\tfgpu\\lib\\site-packages (from pyttsx3) (223)\n",
      "Requirement already satisfied: pywin32 in c:\\users\\lmfph\\anaconda3\\envs\\tfgpu\\lib\\site-packages (from pyttsx3) (305.1)\n",
      "Note: you may need to restart the kernel to use updated packages.\n"
     ]
    }
   ],
   "source": [
    "pip install pyttsx3"
   ]
  },
  {
   "cell_type": "code",
   "execution_count": 4,
   "metadata": {},
   "outputs": [],
   "source": [
    "import random\n",
    "import string\n",
    "import warnings\n",
    "import nltk\n",
    "from sklearn.feature_extraction.text import TfidfVectorizer\n",
    "from sklearn.metrics.pairwise import cosine_similarity\n",
    "from newspaper import Article\n",
    "import pyttsx3"
   ]
  },
  {
   "cell_type": "markdown",
   "metadata": {},
   "source": [
    "Downloading and installing NLTK\n",
    "NLTK(Natural Language Toolkit) is a leading platform for building Python programs to work with human language data. It provides easy-to-use interfaces to over 50 corpora and lexical resources such as WordNet, along with a suite of text processing libraries for classification, tokenization, stemming, tagging, parsing, and semantic reasoning, wrappers for industrial-strength NLP libraries.\n",
    "\n",
    "Natural Language Processing with Python provides a practical introduction to programming for language processing.\n",
    "\n",
    "For platform-specific instructions, read here"
   ]
  },
  {
   "cell_type": "code",
   "execution_count": 5,
   "metadata": {},
   "outputs": [],
   "source": [
    "# Initialize the text-to-speech engine\n",
    "engine = pyttsx3.init()"
   ]
  },
  {
   "cell_type": "code",
   "execution_count": 6,
   "metadata": {},
   "outputs": [
    {
     "data": {
      "text/plain": [
       "True"
      ]
     },
     "execution_count": 6,
     "metadata": {},
     "output_type": "execute_result"
    }
   ],
   "source": [
    "#download package from nltk\n",
    "warnings.filterwarnings('ignore')\n",
    "nltk.download('popular', quiet=True)\n",
    "nltk.download('punkt', quiet=True)\n",
    "nltk.download('wordnet', quiet=True)\n"
   ]
  },
  {
   "cell_type": "code",
   "execution_count": 7,
   "metadata": {},
   "outputs": [],
   "source": [
    "# Function to normalize text\n",
    "def LemNormalize(text):\n",
    "    return nltk.word_tokenize(text.lower().translate(remove_punct_dict))\n"
   ]
  },
  {
   "cell_type": "code",
   "execution_count": 8,
   "metadata": {},
   "outputs": [],
   "source": [
    "# Keywords for greetings\n",
    "greeting_input = [\"hello\", \"hi\", \"greetings\", \"sup\", \"what's up\", \"hey\"]\n",
    "greeting_response = [\"hi\", \"hey\", \"*nods*\", \"hi there\", \"hello\", \"I am glad! You are talking to me\"]\n"
   ]
  },
  {
   "cell_type": "code",
   "execution_count": 9,
   "metadata": {},
   "outputs": [],
   "source": [
    "# Function to recognize greetings\n",
    "def greeting(sentence):\n",
    "    for word in sentence.split():\n",
    "        if word.lower() in greeting_input:\n",
    "            return random.choice(greeting_response)"
   ]
  },
  {
   "cell_type": "code",
   "execution_count": 10,
   "metadata": {},
   "outputs": [],
   "source": [
    "# Function to generate responses\n",
    "def response(user_response):\n",
    "    user_response = user_response.lower()\n",
    "    user_response = user_response.upper()\n",
    "    robo_response = ''\n",
    "    sent_tokens.append(user_response)\n",
    "    tfidfvec = TfidfVectorizer(tokenizer=LemNormalize, stop_words='english')\n",
    "    tfidf = tfidfvec.fit_transform(sent_tokens)\n",
    "    val = cosine_similarity(tfidf[-1], tfidf)\n",
    "    idx = val.argsort()[0][-2]\n",
    "    flat = val.flatten()\n",
    "    flat.sort()\n",
    "    score = flat[-2]\n",
    "    if score == 0:\n",
    "        robo_response = \"Sorry, I don't understand.\"\n",
    "    else:\n",
    "        robo_response = sent_tokens[idx]\n",
    "\n",
    "    sent_tokens.remove(user_response)\n",
    "    speak(robo_response)  # Speak the response\n",
    "    return robo_response"
   ]
  },
  {
   "cell_type": "code",
   "execution_count": 11,
   "metadata": {},
   "outputs": [],
   "source": [
    "# Function to speak text\n",
    "def speak(text):\n",
    "    engine.say(text)\n",
    "    engine.runAndWait()"
   ]
  },
  {
   "cell_type": "code",
   "execution_count": 12,
   "metadata": {},
   "outputs": [
    {
     "name": "stdout",
     "output_type": "stream",
     "text": [
      "Earth is the third planet from the Sun in the Solar System. It is the only planet known to have life on it. The Earth formed about 4.6 billion years ago.[29][30]\n",
      "\n",
      "It is one of four rocky planets on the inner side of the Solar System. The other three are Mercury, Venus, and Mars.\n",
      "\n",
      "The large mass of the Sun keeps the Earth in orbit through the force of gravity.[31] Earth also turns around in space, so that different parts face the Sun at different times. Earth goes around the Sun once (one year) for every 365​1⁄ 4 times it turns around (one day).\n",
      "\n",
      "Earth is the only planet in the Solar System that has a large amount of liquid water on its surface.[32][33][34] About 71% of the surface of Earth is covered by liquid or frozen water.[35] Because of this, people sometimes call it the blue planet.[36]\n",
      "\n",
      "Because of its water, Earth is home to millions of species of plants and animals which need water to survive.[37][38] The things that live on Earth have changed its surface greatly. For example, early cyanobacteria changed the air and gave it oxygen. The living part of Earth's surface is called the \"biosphere\".[39]\n",
      "\n",
      "Orbit and turning [ change | change source ]\n",
      "\n",
      "Earth turns at an angle (an \"axial tilt\") in relation to its path around the Sun\n",
      "\n",
      "Earth is one of the eight planets in the Solar System. There are also thousands of small bodies which move around the Sun. The Solar System is moving through the Orion Arm of the Milky Way galaxy, and will be for about the next 10,000 years.[40][41]\n",
      "\n",
      "Earth is about 150,000,000 kilometres or 93,000,000 miles away from the Sun (this distance is called an \"astronomical unit\" or au. It moves on its orbit at an average speed of about 30 km/s (19 mi/s).[42] Earth turns around about 365​1⁄ 4 times in the time it takes for Earth to go all the way around the Sun.[4] To make up this extra bit of a day every year, an additional day is used every four years. This is called a \"leap year\".\n",
      "\n",
      "The Moon goes around Earth at an average distance of 400,000 kilometres or 250,000 miles. It is locked to Earth, so that it always has the same half facing Earth; the other half is called the \"dark side of the moon\". It takes about 27​1⁄ 3 days for the Moon to go all the way around Earth, but because Earth is moving around the Sun at the same time, it takes about 29​1⁄ 2 days for the Moon to go from dark to bright to dark again. This is where the word \"month\" came from, even though most months now have 30 or 31 days.[43]\n",
      "\n",
      "History of Earth [ change | change source ]\n",
      "\n",
      "Earth and the other planets formed about 4.6 billion years ago.[44] Their origin was different from that of the Sun. The Sun was formed almost entirely of hydrogen, while the planets were formed mostly from higher elements. The smaller \"rocky\" planets are made almost entirely of higher elements. The Sun must have moved through areas where supernovae had previously exploded.[45] All the planets have higher elements which are only made in supernovae.[46][47][48] Only the so-called \"gas giants\" have much hydrogen and helium.\n",
      "\n",
      "The Moon may have been formed after a collision between the early Earth and a smaller planet (sometimes called Theia). Scientists believe that parts of both planets broke off – becoming (by gravity) the Moon.[49]\n",
      "\n",
      "Earth's water came from different places. Condensing water vapour, and comets and asteroids hitting Earth, made the oceans. Within a billion years (that is at about 3.6 billion years ago) the first life evolved, in the Archaean era.[50][51] Some bacteria developed photosynthesis, which let them make food from the Sun's light and water. This released a lot of oxygen, which was first taken up by iron in solution. After a long time, enough oxygen got into the atmosphere or air, making Earth's surface suitable for aerobic life (see Great Oxygenation Event). This oxygen also formed the ozone layer which protects life from ultraviolet radiation from the Sun. Complex life on the surface of the land did not exist before the ozone layer.[52]\n",
      "\n",
      "Earth's land and climate has been very different in the past. About 3 to 3.5 billion years ago almost all land was in one place. This is called a supercontinent. The earliest known supercontinent was called Vaalbara. Much later, there many times the Earth was covered in ice sheets. (For example, the Cryogenian).[53] This is called the Snowball Earth theory.[53]\n",
      "\n",
      "Geology of Earth [ change | change source ]\n",
      "\n",
      "Earth is rocky. It is the largest of the rocky planets moving around the Sun by mass and by size. It is much smaller than the gas giants such as Jupiter.\n",
      "\n",
      "Overall, Earth is made of iron (32.1%), oxygen (30.1%), silicon (15.1%), magnesium (13.9%), sulfur (2.9%), nickel (1.8%), calcium (1.5%), and aluminium (1.4%). The 1.2% left over is made of many different kinds of other chemicals. Some rare metals (not just gold and platinum) are very valuable. Rare earth metals are often used in electronic phones and computers.[54]\n",
      "\n",
      "The structure of Earth changes from the inside to the outside. The center of Earth (Earth's core) is mostly iron (88.8%), nickel (5.8%), sulfur (4.5%), and less than 1% other elements.[55] The Earth's crust is largely oxygen (47%). Oxygen is normally a gas but it can join with other chemicals to make compounds like water and rocks. 99.22% of rocks have oxygen in them. The most common rocks with oxygen are silica (made with silicon), alumina (made with aluminium), rust (made with iron), lime (made with calcium), magnesia (made with magnesium), potash (made with potassium), and sodium oxide.[56]\n",
      "\n",
      "The Earth is the densest of all the planets.[57] It has a lot of heavy metals in it.[58]\n",
      "\n",
      "Earth's shape is a spheroid: not quite a sphere because it is slightly squashed on the top and bottom. The shape is called an oblate spheroid. As Earth spins around itself, centrifugal force forces the equator out a little and pulls the poles in a little. The equator, around the middle of Earth's surface, is about 40,075 kilometers or 24,900 miles long.[59] The reason the Earth is roughly a sphere (and so are all planets and stars) is gravity.[60] Meteorites, on the other hand may be any shape because, in their case, the force of gravity is too weak to change their shape.\n",
      "\n",
      "The highest mountain above sea level—the well-known Mount Everest (which is 8,848 metres or 29,029 feet above sea level)—is not actually the one that is the farthest away from the center of the Earth. Instead, the sleeping volcano Mount Chimborazo in Ecuador is; it is only 6,263 metres or 20,548 feet above sea level but it is almost at the equator. Because of this, Mount Chimborazo is 6,384 kilometres or 3,967 miles from the center of the Earth, while Mount Everest is closer to it (2 kilometres or 1.2 miles).[61][62][63] Similarly, the lowest point below sea level that we are conscious of is the Challenger Deep in the Mariana Trench in the Pacific Ocean. It is about 10,971 metres or 35,994 feet below sea level,[64] but, again, there are probably places at the bottom of the Arctic Ocean that are nearer to the center of the Earth.\n",
      "\n",
      "A picture of the inside of the Earth, showing the different levels. In fact, the air and the outside levels are much thinner than shown here\n",
      "\n",
      "The deepest hole ever dug is only about 12.3 kilometers or 7.6 miles. We know something about the inside of the Earth, because we learn things from earthquakes and volcanic eruptions. We can detect how quickly shock waves move through the Earth.\n",
      "\n",
      "The inside of Earth is very different from the outside. Almost all of Earth's liquid water is in the seas or close to the surface. The surface also has a lot of oxygen, which comes from plants. Small and simple kinds of life can live far under the surface, but animals and plants only live on the surface or in the seas. The rocks on the surface of Earth (Earth's crust) are well known. They are thicker where there is land, between 30 to 50 km or 19 to 31 mi thick. Under the seas they are sometimes only 6 km or 3.7 mi thick.[65]\n",
      "\n",
      "There are three groups of rocks that make up most of the Earth's crust. Some rock is made when the hot liquid rock comes from inside the earth (igneous rocks); another type of rock is made when sediment is laid down, usually under the sea (sedimentary rocks); and a third kind of rock is made when the other two are changed by very high temperature or pressure (metamorphic rocks).\n",
      "\n",
      "Below the crust is hot and almost-liquid rock which is always moving around (the Earth's mantle). Then, there is a thin liquid layer of heated rock (the outer core). This is very hot: 7,000 °C or 13,000 °F or 7,300 K.[66] The middle of the inside of the Earth would be liquid as well but all the pressure of the rock above it makes it a solid. This solid middle part (the inner core) is almost all iron. It is what makes the Earth magnetic.\n",
      "\n",
      "Pieces of the crust form plates [ change | change source ]\n",
      "\n",
      "A picture showing the Earth's largest and most important plates.\n",
      "\n",
      "See the main article: Plate tectonics\n",
      "\n",
      "The Earth's crust is solid but made of parts which move very slowly.[67] The thin skin of hard rock on the outside of the Earth rests on hot liquid material below it in the deeper mantle.[68] This liquid material moves because it gets heat from the hot center of the Earth. The slow movement of the plates is a factor in earthquakes, volcanoes and large groups of mountains on the Earth.\n",
      "\n",
      "There are three ways plates can come together. Two plates can move towards each other (\"convergent\" plate edges). This can form islands, volcanoes, and high mountain ranges (such as the Andes and Himalayas).[69] Two plates can move away from each other (\"divergent\" plate edges). This gives the warm liquid rock inside the earth a place to come out. This makes special mountain ranges below the sea or large low lands like Africa's Great Rift Valley.[70][71] Plates are able to move beside each other as well (\"transform\" plate edges, such as the San Andreas Fault). This makes their edges crush against each other and makes many shocks as they move.[72]\n",
      "\n",
      "The outside of the Earth is not even. There are high places called mountains, and high flat places called plateaus or plateaux. There are low places called valleys and canyons. For the most part, moving air and water from the sky and seas eats away at rocks in high places and breaks them into small pieces. The air and water then move these pieces to lower places. The fundamental cause of the differences in the Earth's surface is plate tectonics. The shape of the entire planet itself is not a exactly a ball. Because of its spin, Earth has a slight bulge at the Equator.\n",
      "\n",
      "All places on Earth are made of, or are on top of, rocks. The outside of the Earth is usually not uncovered rock. Over 70% of the Earth is covered by seas full of salty water.[73] This salty water makes up about 97​1⁄ 2 % of all Earth's water. The drinkable fresh water is mostly in the form of ice. There is only a small amount (less than 3%) of fresh water in rivers and under the ground for people to drink.[74] Gravity stops the water from going away into outer space. Also, much of the land on Earth is covered with plants, or with what is left from earlier living things. Places with very little rain are dry wastes called deserts. Deserts usually have few living things, but life is able to grow very quickly when these wastes have rainfall. Places with large amounts of rain may be rain forests. Lately, people have changed the environment of the Earth a great deal. As population has increased, so has farming. Farming is done on what were once natural forests and grassland.[75][76]\n",
      "\n",
      "See the main article: Atmosphere\n",
      "\n",
      "All around the Earth is the of air (the atmosphere). The mass of the Earth holds the gasses in the air down and does not let them go into outer space. The air is mostly made of nitrogen (about 78%) and oxygen (about 21%) and there are a few other gasses as well.[77] Living things need both the air and water.\n",
      "\n",
      "The air, which animals and plants use to live, is only the first level of the air around the Earth (the troposphere). The day to day changes in this level of air are called weather; the larger differences between distant places, and from year to year, are called the climate. Rain and storms come about because this part of the air gets colder as it goes up. Cold air becomes thicker and falls, and warm air becomes thinner and goes up.[78] The turning Earth also moves the air as well and air moves north and south because the middle of the Earth generally gets more power from the Sun and is warmer than the north and south points. Air over warm water evaporates but, because cold air is not able to take in as much water, it starts to make clouds and rain as it gets colder. The way water moves around in a circle like this is called the water cycle.[78]\n",
      "\n",
      "Above this first level, there are four other levels. The air gets colder as it goes up in the first level; in the second level (the stratosphere), the air gets warmer as it goes up. This level has a special kind of oxygen called ozone. The ozone in this air keeps living things safe from damaging rays from the Sun. The power from these rays is what makes this level warmer and warmer. The middle level (the mesosphere) gets colder and colder with height; the fourth level (the thermosphere) gets warmer and warmer; and the last level (the exosphere) is almost outer space and has very little air at all. It reaches about half the way to the Moon. The three outer levels have a lot of electric power moving through them; this is called the ionosphere and is important for radio and other electric waves in the air.\n",
      "\n",
      "Even though air seems very light, the weight of all of the air above the outside of the Earth (air pressure) is important. Generally, from sea level to the top of the outer level of the air, a space of air one cm2 across has a mass of about 1.03 kg and a space of air one sq in across has a weight of about 14.7 lb. Because of friction in the air, small meteorites generally burn up long before they get to the Earth.\n",
      "\n",
      "The air also keeps the Earth warm, specially the half turned away from the Sun. Some gasses – especially methane and carbon dioxide – work like a blanket to keep things warm.[79] In the past, the Earth has been much warmer and much colder than it is now. Since people have adapted to the heat we have now, we do not want the Earth to be too much warmer or colder. Most of the ways people create electric power use burning kinds of carbon – especially coal, oil, and natural gas. Burning these fuels creates more carbon dioxide which causes more warming. A discussion is going on now about what people should do about the Earth's latest warming, which has gone on for about 150 years. So far, this warming has been acceptable: plants have grown better. The weather has generally been better than when it was colder.\n",
      "\n",
      "See the main article: Human\n",
      "\n",
      "About eight billion people live on Earth. They live in about 200 different lands called countries. Some, for example, Russia, are large with many large cities. Others, for example, Vatican City, are small. The seven countries with the most people are India, China, the United States, Indonesia, Pakistan, Brazil and Nigeria. About 90% of people live in the northern hemisphere of the world, which has most of the land. Human beings originally came from Africa. Now, 70% of all people do not live in Africa but in Europe and Asia.[80]\n",
      "\n",
      "The distribution of human world population in 2018\n",
      "\n",
      "People change the Earth in many ways. They have been able to grow plants for food and clothes for about ten thousand years. When there was enough food, they were able to build towns and cities. Near these places, men and women were able to change rivers, bring water to farms, and stop floods (rising water) from coming over their land. People found useful animals and bred them so they were easier to keep.[81]\n",
      "\n",
      "There is wide agreement that the long-term future of Earth is tied to the future of the Sun.[82] As time passes, the Sun will get hotter, and that will eventually make the Earth a planet without life.\n",
      "\n",
      "Related pages [ change | change source ]\n"
     ]
    }
   ],
   "source": [
    "# Get article URL\n",
    "article = Article('https://simple.wikipedia.org/wiki/Earth')\n",
    "article.download()\n",
    "article.parse()\n",
    "article.nlp()\n",
    "corpus = article.text\n",
    "#print\n",
    "print(corpus)"
   ]
  },
  {
   "cell_type": "code",
   "execution_count": 13,
   "metadata": {},
   "outputs": [
    {
     "name": "stdout",
     "output_type": "stream",
     "text": [
      "['Earth is the third planet from the Sun in the Solar System.', 'It is the only planet known to have life on it.', 'The Earth formed about 4.6 billion years ago.', '[29][30]\\n\\nIt is one of four rocky planets on the inner side of the Solar System.', 'The other three are Mercury, Venus, and Mars.', 'The large mass of the Sun keeps the Earth in orbit through the force of gravity.', '[31] Earth also turns around in space, so that different parts face the Sun at different times.', 'Earth goes around the Sun once (one year) for every 365\\u200b1⁄ 4 times it turns around (one day).', 'Earth is the only planet in the Solar System that has a large amount of liquid water on its surface.', '[32][33][34] About 71% of the surface of Earth is covered by liquid or frozen water.', '[35] Because of this, people sometimes call it the blue planet.', '[36]\\n\\nBecause of its water, Earth is home to millions of species of plants and animals which need water to survive.', '[37][38] The things that live on Earth have changed its surface greatly.', 'For example, early cyanobacteria changed the air and gave it oxygen.', 'The living part of Earth\\'s surface is called the \"biosphere\".', '[39]\\n\\nOrbit and turning [ change | change source ]\\n\\nEarth turns at an angle (an \"axial tilt\") in relation to its path around the Sun\\n\\nEarth is one of the eight planets in the Solar System.', 'There are also thousands of small bodies which move around the Sun.', 'The Solar System is moving through the Orion Arm of the Milky Way galaxy, and will be for about the next 10,000 years.', '[40][41]\\n\\nEarth is about 150,000,000 kilometres or 93,000,000 miles away from the Sun (this distance is called an \"astronomical unit\" or au.', 'It moves on its orbit at an average speed of about 30 km/s (19 mi/s).', '[42] Earth turns around about 365\\u200b1⁄ 4 times in the time it takes for Earth to go all the way around the Sun.', '[4] To make up this extra bit of a day every year, an additional day is used every four years.', 'This is called a \"leap year\".', 'The Moon goes around Earth at an average distance of 400,000 kilometres or 250,000 miles.', 'It is locked to Earth, so that it always has the same half facing Earth; the other half is called the \"dark side of the moon\".', 'It takes about 27\\u200b1⁄ 3 days for the Moon to go all the way around Earth, but because Earth is moving around the Sun at the same time, it takes about 29\\u200b1⁄ 2 days for the Moon to go from dark to bright to dark again.', 'This is where the word \"month\" came from, even though most months now have 30 or 31 days.', '[43]\\n\\nHistory of Earth [ change | change source ]\\n\\nEarth and the other planets formed about 4.6 billion years ago.', '[44] Their origin was different from that of the Sun.', 'The Sun was formed almost entirely of hydrogen, while the planets were formed mostly from higher elements.', 'The smaller \"rocky\" planets are made almost entirely of higher elements.', 'The Sun must have moved through areas where supernovae had previously exploded.', '[45] All the planets have higher elements which are only made in supernovae.', '[46][47][48] Only the so-called \"gas giants\" have much hydrogen and helium.', 'The Moon may have been formed after a collision between the early Earth and a smaller planet (sometimes called Theia).', 'Scientists believe that parts of both planets broke off – becoming (by gravity) the Moon.', \"[49]\\n\\nEarth's water came from different places.\", 'Condensing water vapour, and comets and asteroids hitting Earth, made the oceans.', 'Within a billion years (that is at about 3.6 billion years ago) the first life evolved, in the Archaean era.', \"[50][51] Some bacteria developed photosynthesis, which let them make food from the Sun's light and water.\", 'This released a lot of oxygen, which was first taken up by iron in solution.', \"After a long time, enough oxygen got into the atmosphere or air, making Earth's surface suitable for aerobic life (see Great Oxygenation Event).\", 'This oxygen also formed the ozone layer which protects life from ultraviolet radiation from the Sun.', 'Complex life on the surface of the land did not exist before the ozone layer.', \"[52]\\n\\nEarth's land and climate has been very different in the past.\", 'About 3 to 3.5 billion years ago almost all land was in one place.', 'This is called a supercontinent.', 'The earliest known supercontinent was called Vaalbara.', 'Much later, there many times the Earth was covered in ice sheets.', '(For example, the Cryogenian).', '[53] This is called the Snowball Earth theory.', '[53]\\n\\nGeology of Earth [ change | change source ]\\n\\nEarth is rocky.', 'It is the largest of the rocky planets moving around the Sun by mass and by size.', 'It is much smaller than the gas giants such as Jupiter.', 'Overall, Earth is made of iron (32.1%), oxygen (30.1%), silicon (15.1%), magnesium (13.9%), sulfur (2.9%), nickel (1.8%), calcium (1.5%), and aluminium (1.4%).', 'The 1.2% left over is made of many different kinds of other chemicals.', 'Some rare metals (not just gold and platinum) are very valuable.', 'Rare earth metals are often used in electronic phones and computers.', '[54]\\n\\nThe structure of Earth changes from the inside to the outside.', \"The center of Earth (Earth's core) is mostly iron (88.8%), nickel (5.8%), sulfur (4.5%), and less than 1% other elements.\", \"[55] The Earth's crust is largely oxygen (47%).\", 'Oxygen is normally a gas but it can join with other chemicals to make compounds like water and rocks.', '99.22% of rocks have oxygen in them.', 'The most common rocks with oxygen are silica (made with silicon), alumina (made with aluminium), rust (made with iron), lime (made with calcium), magnesia (made with magnesium), potash (made with potassium), and sodium oxide.', '[56]\\n\\nThe Earth is the densest of all the planets.', '[57] It has a lot of heavy metals in it.', \"[58]\\n\\nEarth's shape is a spheroid: not quite a sphere because it is slightly squashed on the top and bottom.\", 'The shape is called an oblate spheroid.', 'As Earth spins around itself, centrifugal force forces the equator out a little and pulls the poles in a little.', \"The equator, around the middle of Earth's surface, is about 40,075 kilometers or 24,900 miles long.\", '[59] The reason the Earth is roughly a sphere (and so are all planets and stars) is gravity.', '[60] Meteorites, on the other hand may be any shape because, in their case, the force of gravity is too weak to change their shape.', 'The highest mountain above sea level—the well-known Mount Everest (which is 8,848 metres or 29,029 feet above sea level)—is not actually the one that is the farthest away from the center of the Earth.', 'Instead, the sleeping volcano Mount Chimborazo in Ecuador is; it is only 6,263 metres or 20,548 feet above sea level but it is almost at the equator.', 'Because of this, Mount Chimborazo is 6,384 kilometres or 3,967 miles from the center of the Earth, while Mount Everest is closer to it (2 kilometres or 1.2 miles).', '[61][62][63] Similarly, the lowest point below sea level that we are conscious of is the Challenger Deep in the Mariana Trench in the Pacific Ocean.', 'It is about 10,971 metres or 35,994 feet below sea level,[64] but, again, there are probably places at the bottom of the Arctic Ocean that are nearer to the center of the Earth.', 'A picture of the inside of the Earth, showing the different levels.', 'In fact, the air and the outside levels are much thinner than shown here\\n\\nThe deepest hole ever dug is only about 12.3 kilometers or 7.6 miles.', 'We know something about the inside of the Earth, because we learn things from earthquakes and volcanic eruptions.', 'We can detect how quickly shock waves move through the Earth.', 'The inside of Earth is very different from the outside.', \"Almost all of Earth's liquid water is in the seas or close to the surface.\", 'The surface also has a lot of oxygen, which comes from plants.', 'Small and simple kinds of life can live far under the surface, but animals and plants only live on the surface or in the seas.', \"The rocks on the surface of Earth (Earth's crust) are well known.\", 'They are thicker where there is land, between 30 to 50 km or 19 to 31 mi thick.', 'Under the seas they are sometimes only 6 km or 3.7 mi thick.', \"[65]\\n\\nThere are three groups of rocks that make up most of the Earth's crust.\", 'Some rock is made when the hot liquid rock comes from inside the earth (igneous rocks); another type of rock is made when sediment is laid down, usually under the sea (sedimentary rocks); and a third kind of rock is made when the other two are changed by very high temperature or pressure (metamorphic rocks).', \"Below the crust is hot and almost-liquid rock which is always moving around (the Earth's mantle).\", 'Then, there is a thin liquid layer of heated rock (the outer core).', 'This is very hot: 7,000 °C or 13,000 °F or 7,300 K.[66] The middle of the inside of the Earth would be liquid as well but all the pressure of the rock above it makes it a solid.', 'This solid middle part (the inner core) is almost all iron.', 'It is what makes the Earth magnetic.', \"Pieces of the crust form plates [ change | change source ]\\n\\nA picture showing the Earth's largest and most important plates.\", \"See the main article: Plate tectonics\\n\\nThe Earth's crust is solid but made of parts which move very slowly.\", '[67] The thin skin of hard rock on the outside of the Earth rests on hot liquid material below it in the deeper mantle.', '[68] This liquid material moves because it gets heat from the hot center of the Earth.', 'The slow movement of the plates is a factor in earthquakes, volcanoes and large groups of mountains on the Earth.', 'There are three ways plates can come together.', 'Two plates can move towards each other (\"convergent\" plate edges).', 'This can form islands, volcanoes, and high mountain ranges (such as the Andes and Himalayas).', '[69] Two plates can move away from each other (\"divergent\" plate edges).', 'This gives the warm liquid rock inside the earth a place to come out.', \"This makes special mountain ranges below the sea or large low lands like Africa's Great Rift Valley.\", '[70][71] Plates are able to move beside each other as well (\"transform\" plate edges, such as the San Andreas Fault).', 'This makes their edges crush against each other and makes many shocks as they move.', '[72]\\n\\nThe outside of the Earth is not even.', 'There are high places called mountains, and high flat places called plateaus or plateaux.', 'There are low places called valleys and canyons.', 'For the most part, moving air and water from the sky and seas eats away at rocks in high places and breaks them into small pieces.', 'The air and water then move these pieces to lower places.', \"The fundamental cause of the differences in the Earth's surface is plate tectonics.\", 'The shape of the entire planet itself is not a exactly a ball.', 'Because of its spin, Earth has a slight bulge at the Equator.', 'All places on Earth are made of, or are on top of, rocks.', 'The outside of the Earth is usually not uncovered rock.', 'Over 70% of the Earth is covered by seas full of salty water.', \"[73] This salty water makes up about 97\\u200b1⁄ 2 % of all Earth's water.\", 'The drinkable fresh water is mostly in the form of ice.', 'There is only a small amount (less than 3%) of fresh water in rivers and under the ground for people to drink.', '[74] Gravity stops the water from going away into outer space.', 'Also, much of the land on Earth is covered with plants, or with what is left from earlier living things.', 'Places with very little rain are dry wastes called deserts.', 'Deserts usually have few living things, but life is able to grow very quickly when these wastes have rainfall.', 'Places with large amounts of rain may be rain forests.', 'Lately, people have changed the environment of the Earth a great deal.', 'As population has increased, so has farming.', 'Farming is done on what were once natural forests and grassland.', '[75][76]\\n\\nSee the main article: Atmosphere\\n\\nAll around the Earth is the of air (the atmosphere).', 'The mass of the Earth holds the gasses in the air down and does not let them go into outer space.', 'The air is mostly made of nitrogen (about 78%) and oxygen (about 21%) and there are a few other gasses as well.', '[77] Living things need both the air and water.', 'The air, which animals and plants use to live, is only the first level of the air around the Earth (the troposphere).', 'The day to day changes in this level of air are called weather; the larger differences between distant places, and from year to year, are called the climate.', 'Rain and storms come about because this part of the air gets colder as it goes up.', 'Cold air becomes thicker and falls, and warm air becomes thinner and goes up.', '[78] The turning Earth also moves the air as well and air moves north and south because the middle of the Earth generally gets more power from the Sun and is warmer than the north and south points.', 'Air over warm water evaporates but, because cold air is not able to take in as much water, it starts to make clouds and rain as it gets colder.', 'The way water moves around in a circle like this is called the water cycle.', '[78]\\n\\nAbove this first level, there are four other levels.', 'The air gets colder as it goes up in the first level; in the second level (the stratosphere), the air gets warmer as it goes up.', 'This level has a special kind of oxygen called ozone.', 'The ozone in this air keeps living things safe from damaging rays from the Sun.', 'The power from these rays is what makes this level warmer and warmer.', 'The middle level (the mesosphere) gets colder and colder with height; the fourth level (the thermosphere) gets warmer and warmer; and the last level (the exosphere) is almost outer space and has very little air at all.', 'It reaches about half the way to the Moon.', 'The three outer levels have a lot of electric power moving through them; this is called the ionosphere and is important for radio and other electric waves in the air.', 'Even though air seems very light, the weight of all of the air above the outside of the Earth (air pressure) is important.', 'Generally, from sea level to the top of the outer level of the air, a space of air one cm2 across has a mass of about 1.03 kg and a space of air one sq in across has a weight of about 14.7 lb.', 'Because of friction in the air, small meteorites generally burn up long before they get to the Earth.', 'The air also keeps the Earth warm, specially the half turned away from the Sun.', 'Some gasses – especially methane and carbon dioxide – work like a blanket to keep things warm.', '[79] In the past, the Earth has been much warmer and much colder than it is now.', 'Since people have adapted to the heat we have now, we do not want the Earth to be too much warmer or colder.', 'Most of the ways people create electric power use burning kinds of carbon – especially coal, oil, and natural gas.', 'Burning these fuels creates more carbon dioxide which causes more warming.', \"A discussion is going on now about what people should do about the Earth's latest warming, which has gone on for about 150 years.\", 'So far, this warming has been acceptable: plants have grown better.', 'The weather has generally been better than when it was colder.', 'See the main article: Human\\n\\nAbout eight billion people live on Earth.', 'They live in about 200 different lands called countries.', 'Some, for example, Russia, are large with many large cities.', 'Others, for example, Vatican City, are small.', 'The seven countries with the most people are India, China, the United States, Indonesia, Pakistan, Brazil and Nigeria.', 'About 90% of people live in the northern hemisphere of the world, which has most of the land.', 'Human beings originally came from Africa.', 'Now, 70% of all people do not live in Africa but in Europe and Asia.', '[80]\\n\\nThe distribution of human world population in 2018\\n\\nPeople change the Earth in many ways.', 'They have been able to grow plants for food and clothes for about ten thousand years.', 'When there was enough food, they were able to build towns and cities.', 'Near these places, men and women were able to change rivers, bring water to farms, and stop floods (rising water) from coming over their land.', 'People found useful animals and bred them so they were easier to keep.', '[81]\\n\\nThere is wide agreement that the long-term future of Earth is tied to the future of the Sun.', '[82] As time passes, the Sun will get hotter, and that will eventually make the Earth a planet without life.', 'Related pages [ change | change source ]']\n"
     ]
    }
   ],
   "source": [
    "# Tokenization\n",
    "text = corpus\n",
    "sent_tokens = nltk.sent_tokenize(text)\n",
    "print(sent_tokens)"
   ]
  },
  {
   "cell_type": "code",
   "execution_count": 14,
   "metadata": {},
   "outputs": [],
   "source": [
    "lemmer = nltk.stem.WordNetLemmatizer()\n",
    "#WordNet is a semantically-oriented dictionary of English included in NLTK.\n",
    "def LemTokens(tokens):\n",
    "    return [lemmer.lemmatize(token) for token in tokens]\n",
    "remove_punct_dict = dict((ord(punct), None) for punct in string.punctuation)\n",
    "\n",
    "def LemNormalize(text):\n",
    "    return LemTokens(nltk.word_tokenize(text.lower().translate(remove_punct_dict)))"
   ]
  },
  {
   "cell_type": "code",
   "execution_count": 15,
   "metadata": {},
   "outputs": [
    {
     "name": "stdout",
     "output_type": "stream",
     "text": [
      "!\"#$%&'()*+,-./:;<=>?@[\\]^_`{|}~\n",
      "{33: None, 34: None, 35: None, 36: None, 37: None, 38: None, 39: None, 40: None, 41: None, 42: None, 43: None, 44: None, 45: None, 46: None, 47: None, 58: None, 59: None, 60: None, 61: None, 62: None, 63: None, 64: None, 91: None, 92: None, 93: None, 94: None, 95: None, 96: None, 123: None, 124: None, 125: None, 126: None}\n"
     ]
    }
   ],
   "source": [
    "#creating a dictionary to remove the punctuation\n",
    "print(string.punctuation)\n",
    "print(remove_punct_dict)"
   ]
  },
  {
   "cell_type": "code",
   "execution_count": 16,
   "metadata": {},
   "outputs": [
    {
     "name": "stdout",
     "output_type": "stream",
     "text": [
      "['earth', 'is', 'the', 'third', 'planet', 'from', 'the', 'sun', 'in', 'the', 'solar', 'system', 'it', 'is', 'the', 'only', 'planet', 'known', 'to', 'have', 'life', 'on', 'it', 'the', 'earth', 'formed', 'about', '46', 'billion', 'years', 'ago2930', 'it', 'is', 'one', 'of', 'four', 'rocky', 'planets', 'on', 'the', 'inner', 'side', 'of', 'the', 'solar', 'system', 'the', 'other', 'three', 'are', 'mercury', 'venus', 'and', 'mars', 'the', 'large', 'mass', 'of', 'the', 'sun', 'keeps', 'the', 'earth', 'in', 'orbit', 'through', 'the', 'force', 'of', 'gravity31', 'earth', 'also', 'turns', 'around', 'in', 'space', 'so', 'that', 'different', 'parts', 'face', 'the', 'sun', 'at', 'different', 'times', 'earth', 'goes', 'around', 'the', 'sun', 'once', 'one', 'year', 'for', 'every', '365\\u200b1⁄', '4', 'times', 'it', 'turns', 'around', 'one', 'day', 'earth', 'is', 'the', 'only', 'planet', 'in', 'the', 'solar', 'system', 'that', 'has', 'a', 'large', 'amount', 'of', 'liquid', 'water', 'on', 'its', 'surface323334', 'about', '71', 'of', 'the', 'surface', 'of', 'earth', 'is', 'covered', 'by', 'liquid', 'or', 'frozen', 'water35', 'because', 'of', 'this', 'people', 'sometimes', 'call', 'it', 'the', 'blue', 'planet36', 'because', 'of', 'its', 'water', 'earth', 'is', 'home', 'to', 'millions', 'of', 'species', 'of', 'plants', 'and', 'animals', 'which', 'need', 'water', 'to', 'survive3738', 'the', 'things', 'that', 'live', 'on', 'earth', 'have', 'changed', 'its', 'surface', 'greatly', 'for', 'example', 'early', 'cyanobacteria', 'changed', 'the', 'air', 'and', 'gave', 'it', 'oxygen', 'the', 'living', 'part', 'of', 'earths', 'surface', 'is', 'called', 'the', 'biosphere39', 'orbit', 'and', 'turning', 'change', 'change', 'source', 'earth', 'turns', 'at', 'an', 'angle', 'an', 'axial', 'tilt', 'in', 'relation', 'to', 'its', 'path', 'around', 'the', 'sun', 'earth', 'is', 'one', 'of', 'the', 'eight', 'planets', 'in', 'the', 'solar', 'system', 'there', 'are', 'also', 'thousands', 'of', 'small', 'bodies', 'which', 'move', 'around', 'the', 'sun', 'the', 'solar', 'system', 'is', 'moving', 'through', 'the', 'orion', 'arm', 'of', 'the', 'milky', 'way', 'galaxy', 'and', 'will', 'be', 'for', 'about', 'the', 'next', '10000', 'years4041', 'earth', 'is', 'about', '150000000', 'kilometres', 'or', '93000000', 'miles', 'away', 'from', 'the', 'sun', 'this', 'distance', 'is', 'called', 'an', 'astronomical', 'unit', 'or', 'au', 'it', 'moves', 'on', 'its', 'orbit', 'at', 'an', 'average', 'speed', 'of', 'about', '30', 'kms', '19', 'mis42', 'earth', 'turns', 'around', 'about', '365\\u200b1⁄', '4', 'times', 'in', 'the', 'time', 'it', 'takes', 'for', 'earth', 'to', 'go', 'all', 'the', 'way', 'around', 'the', 'sun4', 'to', 'make', 'up', 'this', 'extra', 'bit', 'of', 'a', 'day', 'every', 'year', 'an', 'additional', 'day', 'is', 'used', 'every', 'four', 'years', 'this', 'is', 'called', 'a', 'leap', 'year', 'the', 'moon', 'goes', 'around', 'earth', 'at', 'an', 'average', 'distance', 'of', '400000', 'kilometres', 'or', '250000', 'miles', 'it', 'is', 'locked', 'to', 'earth', 'so', 'that', 'it', 'always', 'has', 'the', 'same', 'half', 'facing', 'earth', 'the', 'other', 'half', 'is', 'called', 'the', 'dark', 'side', 'of', 'the', 'moon', 'it', 'takes', 'about', '27\\u200b1⁄', '3', 'days', 'for', 'the', 'moon', 'to', 'go', 'all', 'the', 'way', 'around', 'earth', 'but', 'because', 'earth', 'is', 'moving', 'around', 'the', 'sun', 'at', 'the', 'same', 'time', 'it', 'takes', 'about', '29\\u200b1⁄', '2', 'days', 'for', 'the', 'moon', 'to', 'go', 'from', 'dark', 'to', 'bright', 'to', 'dark', 'again', 'this', 'is', 'where', 'the', 'word', 'month', 'came', 'from', 'even', 'though', 'most', 'months', 'now', 'have', '30', 'or', '31', 'days43', 'history', 'of', 'earth', 'change', 'change', 'source', 'earth', 'and', 'the', 'other', 'planets', 'formed', 'about', '46', 'billion', 'years', 'ago44', 'their', 'origin', 'was', 'different', 'from', 'that', 'of', 'the', 'sun', 'the', 'sun', 'was', 'formed', 'almost', 'entirely', 'of', 'hydrogen', 'while', 'the', 'planets', 'were', 'formed', 'mostly', 'from', 'higher', 'elements', 'the', 'smaller', 'rocky', 'planets', 'are', 'made', 'almost', 'entirely', 'of', 'higher', 'elements', 'the', 'sun', 'must', 'have', 'moved', 'through', 'areas', 'where', 'supernovae', 'had', 'previously', 'exploded45', 'all', 'the', 'planets', 'have', 'higher', 'elements', 'which', 'are', 'only', 'made', 'in', 'supernovae464748', 'only', 'the', 'socalled', 'gas', 'giants', 'have', 'much', 'hydrogen', 'and', 'helium', 'the', 'moon', 'may', 'have', 'been', 'formed', 'after', 'a', 'collision', 'between', 'the', 'early', 'earth', 'and', 'a', 'smaller', 'planet', 'sometimes', 'called', 'theia', 'scientists', 'believe', 'that', 'parts', 'of', 'both', 'planets', 'broke', 'off', '–', 'becoming', 'by', 'gravity', 'the', 'moon49', 'earths', 'water', 'came', 'from', 'different', 'places', 'condensing', 'water', 'vapour', 'and', 'comets', 'and', 'asteroids', 'hitting', 'earth', 'made', 'the', 'oceans', 'within', 'a', 'billion', 'years', 'that', 'is', 'at', 'about', '36', 'billion', 'years', 'ago', 'the', 'first', 'life', 'evolved', 'in', 'the', 'archaean', 'era5051', 'some', 'bacteria', 'developed', 'photosynthesis', 'which', 'let', 'them', 'make', 'food', 'from', 'the', 'suns', 'light', 'and', 'water', 'this', 'released', 'a', 'lot', 'of', 'oxygen', 'which', 'was', 'first', 'taken', 'up', 'by', 'iron', 'in', 'solution', 'after', 'a', 'long', 'time', 'enough', 'oxygen', 'got', 'into', 'the', 'atmosphere', 'or', 'air', 'making', 'earths', 'surface', 'suitable', 'for', 'aerobic', 'life', 'see', 'great', 'oxygenation', 'event', 'this', 'oxygen', 'also', 'formed', 'the', 'ozone', 'layer', 'which', 'protects', 'life', 'from', 'ultraviolet', 'radiation', 'from', 'the', 'sun', 'complex', 'life', 'on', 'the', 'surface', 'of', 'the', 'land', 'did', 'not', 'exist', 'before', 'the', 'ozone', 'layer52', 'earths', 'land', 'and', 'climate', 'has', 'been', 'very', 'different', 'in', 'the', 'past', 'about', '3', 'to', '35', 'billion', 'years', 'ago', 'almost', 'all', 'land', 'was', 'in', 'one', 'place', 'this', 'is', 'called', 'a', 'supercontinent', 'the', 'earliest', 'known', 'supercontinent', 'was', 'called', 'vaalbara', 'much', 'later', 'there', 'many', 'times', 'the', 'earth', 'was', 'covered', 'in', 'ice', 'sheets', 'for', 'example', 'the', 'cryogenian53', 'this', 'is', 'called', 'the', 'snowball', 'earth', 'theory53', 'geology', 'of', 'earth', 'change', 'change', 'source', 'earth', 'is', 'rocky', 'it', 'is', 'the', 'largest', 'of', 'the', 'rocky', 'planets', 'moving', 'around', 'the', 'sun', 'by', 'mass', 'and', 'by', 'size', 'it', 'is', 'much', 'smaller', 'than', 'the', 'gas', 'giants', 'such', 'as', 'jupiter', 'overall', 'earth', 'is', 'made', 'of', 'iron', '321', 'oxygen', '301', 'silicon', '151', 'magnesium', '139', 'sulfur', '29', 'nickel', '18', 'calcium', '15', 'and', 'aluminium', '14', 'the', '12', 'left', 'over', 'is', 'made', 'of', 'many', 'different', 'kinds', 'of', 'other', 'chemicals', 'some', 'rare', 'metals', 'not', 'just', 'gold', 'and', 'platinum', 'are', 'very', 'valuable', 'rare', 'earth', 'metals', 'are', 'often', 'used', 'in', 'electronic', 'phones', 'and', 'computers54', 'the', 'structure', 'of', 'earth', 'changes', 'from', 'the', 'inside', 'to', 'the', 'outside', 'the', 'center', 'of', 'earth', 'earths', 'core', 'is', 'mostly', 'iron', '888', 'nickel', '58', 'sulfur', '45', 'and', 'less', 'than', '1', 'other', 'elements55', 'the', 'earths', 'crust', 'is', 'largely', 'oxygen', '47', 'oxygen', 'is', 'normally', 'a', 'gas', 'but', 'it', 'can', 'join', 'with', 'other', 'chemicals', 'to', 'make', 'compounds', 'like', 'water', 'and', 'rocks', '9922', 'of', 'rocks', 'have', 'oxygen', 'in', 'them', 'the', 'most', 'common', 'rocks', 'with', 'oxygen', 'are', 'silica', 'made', 'with', 'silicon', 'alumina', 'made', 'with', 'aluminium', 'rust', 'made', 'with', 'iron', 'lime', 'made', 'with', 'calcium', 'magnesia', 'made', 'with', 'magnesium', 'potash', 'made', 'with', 'potassium', 'and', 'sodium', 'oxide56', 'the', 'earth', 'is', 'the', 'densest', 'of', 'all', 'the', 'planets57', 'it', 'has', 'a', 'lot', 'of', 'heavy', 'metals', 'in', 'it58', 'earths', 'shape', 'is', 'a', 'spheroid', 'not', 'quite', 'a', 'sphere', 'because', 'it', 'is', 'slightly', 'squashed', 'on', 'the', 'top', 'and', 'bottom', 'the', 'shape', 'is', 'called', 'an', 'oblate', 'spheroid', 'as', 'earth', 'spins', 'around', 'itself', 'centrifugal', 'force', 'forces', 'the', 'equator', 'out', 'a', 'little', 'and', 'pulls', 'the', 'poles', 'in', 'a', 'little', 'the', 'equator', 'around', 'the', 'middle', 'of', 'earths', 'surface', 'is', 'about', '40075', 'kilometers', 'or', '24900', 'miles', 'long59', 'the', 'reason', 'the', 'earth', 'is', 'roughly', 'a', 'sphere', 'and', 'so', 'are', 'all', 'planets', 'and', 'stars', 'is', 'gravity60', 'meteorites', 'on', 'the', 'other', 'hand', 'may', 'be', 'any', 'shape', 'because', 'in', 'their', 'case', 'the', 'force', 'of', 'gravity', 'is', 'too', 'weak', 'to', 'change', 'their', 'shape', 'the', 'highest', 'mountain', 'above', 'sea', 'level—the', 'wellknown', 'mount', 'everest', 'which', 'is', '8848', 'metres', 'or', '29029', 'feet', 'above', 'sea', 'level—is', 'not', 'actually', 'the', 'one', 'that', 'is', 'the', 'farthest', 'away', 'from', 'the', 'center', 'of', 'the', 'earth', 'instead', 'the', 'sleeping', 'volcano', 'mount', 'chimborazo', 'in', 'ecuador', 'is', 'it', 'is', 'only', '6263', 'metres', 'or', '20548', 'feet', 'above', 'sea', 'level', 'but', 'it', 'is', 'almost', 'at', 'the', 'equator', 'because', 'of', 'this', 'mount', 'chimborazo', 'is', '6384', 'kilometres', 'or', '3967', 'miles', 'from', 'the', 'center', 'of', 'the', 'earth', 'while', 'mount', 'everest', 'is', 'closer', 'to', 'it', '2', 'kilometres', 'or', '12', 'miles616263', 'similarly', 'the', 'lowest', 'point', 'below', 'sea', 'level', 'that', 'we', 'are', 'conscious', 'of', 'is', 'the', 'challenger', 'deep', 'in', 'the', 'mariana', 'trench', 'in', 'the', 'pacific', 'ocean', 'it', 'is', 'about', '10971', 'metres', 'or', '35994', 'feet', 'below', 'sea', 'level64', 'but', 'again', 'there', 'are', 'probably', 'places', 'at', 'the', 'bottom', 'of', 'the', 'arctic', 'ocean', 'that', 'are', 'nearer', 'to', 'the', 'center', 'of', 'the', 'earth', 'a', 'picture', 'of', 'the', 'inside', 'of', 'the', 'earth', 'showing', 'the', 'different', 'levels', 'in', 'fact', 'the', 'air', 'and', 'the', 'outside', 'levels', 'are', 'much', 'thinner', 'than', 'shown', 'here', 'the', 'deepest', 'hole', 'ever', 'dug', 'is', 'only', 'about', '123', 'kilometers', 'or', '76', 'miles', 'we', 'know', 'something', 'about', 'the', 'inside', 'of', 'the', 'earth', 'because', 'we', 'learn', 'things', 'from', 'earthquakes', 'and', 'volcanic', 'eruptions', 'we', 'can', 'detect', 'how', 'quickly', 'shock', 'waves', 'move', 'through', 'the', 'earth', 'the', 'inside', 'of', 'earth', 'is', 'very', 'different', 'from', 'the', 'outside', 'almost', 'all', 'of', 'earths', 'liquid', 'water', 'is', 'in', 'the', 'seas', 'or', 'close', 'to', 'the', 'surface', 'the', 'surface', 'also', 'has', 'a', 'lot', 'of', 'oxygen', 'which', 'comes', 'from', 'plants', 'small', 'and', 'simple', 'kinds', 'of', 'life', 'can', 'live', 'far', 'under', 'the', 'surface', 'but', 'animals', 'and', 'plants', 'only', 'live', 'on', 'the', 'surface', 'or', 'in', 'the', 'seas', 'the', 'rocks', 'on', 'the', 'surface', 'of', 'earth', 'earths', 'crust', 'are', 'well', 'known', 'they', 'are', 'thicker', 'where', 'there', 'is', 'land', 'between', '30', 'to', '50', 'km', 'or', '19', 'to', '31', 'mi', 'thick', 'under', 'the', 'seas', 'they', 'are', 'sometimes', 'only', '6', 'km', 'or', '37', 'mi', 'thick65', 'there', 'are', 'three', 'groups', 'of', 'rocks', 'that', 'make', 'up', 'most', 'of', 'the', 'earths', 'crust', 'some', 'rock', 'is', 'made', 'when', 'the', 'hot', 'liquid', 'rock', 'comes', 'from', 'inside', 'the', 'earth', 'igneous', 'rocks', 'another', 'type', 'of', 'rock', 'is', 'made', 'when', 'sediment', 'is', 'laid', 'down', 'usually', 'under', 'the', 'sea', 'sedimentary', 'rocks', 'and', 'a', 'third', 'kind', 'of', 'rock', 'is', 'made', 'when', 'the', 'other', 'two', 'are', 'changed', 'by', 'very', 'high', 'temperature', 'or', 'pressure', 'metamorphic', 'rocks', 'below', 'the', 'crust', 'is', 'hot', 'and', 'almostliquid', 'rock', 'which', 'is', 'always', 'moving', 'around', 'the', 'earths', 'mantle', 'then', 'there', 'is', 'a', 'thin', 'liquid', 'layer', 'of', 'heated', 'rock', 'the', 'outer', 'core', 'this', 'is', 'very', 'hot', '7000', '°c', 'or', '13000', '°f', 'or', '7300', 'k66', 'the', 'middle', 'of', 'the', 'inside', 'of', 'the', 'earth', 'would', 'be', 'liquid', 'as', 'well', 'but', 'all', 'the', 'pressure', 'of', 'the', 'rock', 'above', 'it', 'makes', 'it', 'a', 'solid', 'this', 'solid', 'middle', 'part', 'the', 'inner', 'core', 'is', 'almost', 'all', 'iron', 'it', 'is', 'what', 'makes', 'the', 'earth', 'magnetic', 'pieces', 'of', 'the', 'crust', 'form', 'plates', 'change', 'change', 'source', 'a', 'picture', 'showing', 'the', 'earths', 'largest', 'and', 'most', 'important', 'plates', 'see', 'the', 'main', 'article', 'plate', 'tectonics', 'the', 'earths', 'crust', 'is', 'solid', 'but', 'made', 'of', 'parts', 'which', 'move', 'very', 'slowly67', 'the', 'thin', 'skin', 'of', 'hard', 'rock', 'on', 'the', 'outside', 'of', 'the', 'earth', 'rests', 'on', 'hot', 'liquid', 'material', 'below', 'it', 'in', 'the', 'deeper', 'mantle68', 'this', 'liquid', 'material', 'moves', 'because', 'it', 'gets', 'heat', 'from', 'the', 'hot', 'center', 'of', 'the', 'earth', 'the', 'slow', 'movement', 'of', 'the', 'plates', 'is', 'a', 'factor', 'in', 'earthquakes', 'volcanoes', 'and', 'large', 'groups', 'of', 'mountains', 'on', 'the', 'earth', 'there', 'are', 'three', 'ways', 'plates', 'can', 'come', 'together', 'two', 'plates', 'can', 'move', 'towards', 'each', 'other', 'convergent', 'plate', 'edges', 'this', 'can', 'form', 'islands', 'volcanoes', 'and', 'high', 'mountain', 'ranges', 'such', 'as', 'the', 'andes', 'and', 'himalayas69', 'two', 'plates', 'can', 'move', 'away', 'from', 'each', 'other', 'divergent', 'plate', 'edges', 'this', 'gives', 'the', 'warm', 'liquid', 'rock', 'inside', 'the', 'earth', 'a', 'place', 'to', 'come', 'out', 'this', 'makes', 'special', 'mountain', 'ranges', 'below', 'the', 'sea', 'or', 'large', 'low', 'lands', 'like', 'africas', 'great', 'rift', 'valley7071', 'plates', 'are', 'able', 'to', 'move', 'beside', 'each', 'other', 'as', 'well', 'transform', 'plate', 'edges', 'such', 'as', 'the', 'san', 'andreas', 'fault', 'this', 'makes', 'their', 'edges', 'crush', 'against', 'each', 'other', 'and', 'makes', 'many', 'shocks', 'as', 'they', 'move72', 'the', 'outside', 'of', 'the', 'earth', 'is', 'not', 'even', 'there', 'are', 'high', 'places', 'called', 'mountains', 'and', 'high', 'flat', 'places', 'called', 'plateaus', 'or', 'plateaux', 'there', 'are', 'low', 'places', 'called', 'valleys', 'and', 'canyons', 'for', 'the', 'most', 'part', 'moving', 'air', 'and', 'water', 'from', 'the', 'sky', 'and', 'seas', 'eats', 'away', 'at', 'rocks', 'in', 'high', 'places', 'and', 'breaks', 'them', 'into', 'small', 'pieces', 'the', 'air', 'and', 'water', 'then', 'move', 'these', 'pieces', 'to', 'lower', 'places', 'the', 'fundamental', 'cause', 'of', 'the', 'differences', 'in', 'the', 'earths', 'surface', 'is', 'plate', 'tectonics', 'the', 'shape', 'of', 'the', 'entire', 'planet', 'itself', 'is', 'not', 'a', 'exactly', 'a', 'ball', 'because', 'of', 'its', 'spin', 'earth', 'has', 'a', 'slight', 'bulge', 'at', 'the', 'equator', 'all', 'places', 'on', 'earth', 'are', 'made', 'of', 'or', 'are', 'on', 'top', 'of', 'rocks', 'the', 'outside', 'of', 'the', 'earth', 'is', 'usually', 'not', 'uncovered', 'rock', 'over', '70', 'of', 'the', 'earth', 'is', 'covered', 'by', 'seas', 'full', 'of', 'salty', 'water73', 'this', 'salty', 'water', 'makes', 'up', 'about', '97\\u200b1⁄', '2', 'of', 'all', 'earths', 'water', 'the', 'drinkable', 'fresh', 'water', 'is', 'mostly', 'in', 'the', 'form', 'of', 'ice', 'there', 'is', 'only', 'a', 'small', 'amount', 'less', 'than', '3', 'of', 'fresh', 'water', 'in', 'rivers', 'and', 'under', 'the', 'ground', 'for', 'people', 'to', 'drink74', 'gravity', 'stops', 'the', 'water', 'from', 'going', 'away', 'into', 'outer', 'space', 'also', 'much', 'of', 'the', 'land', 'on', 'earth', 'is', 'covered', 'with', 'plants', 'or', 'with', 'what', 'is', 'left', 'from', 'earlier', 'living', 'things', 'places', 'with', 'very', 'little', 'rain', 'are', 'dry', 'wastes', 'called', 'deserts', 'deserts', 'usually', 'have', 'few', 'living', 'things', 'but', 'life', 'is', 'able', 'to', 'grow', 'very', 'quickly', 'when', 'these', 'wastes', 'have', 'rainfall', 'places', 'with', 'large', 'amounts', 'of', 'rain', 'may', 'be', 'rain', 'forests', 'lately', 'people', 'have', 'changed', 'the', 'environment', 'of', 'the', 'earth', 'a', 'great', 'deal', 'as', 'population', 'has', 'increased', 'so', 'has', 'farming', 'farming', 'is', 'done', 'on', 'what', 'were', 'once', 'natural', 'forests', 'and', 'grassland7576', 'see', 'the', 'main', 'article', 'atmosphere', 'all', 'around', 'the', 'earth', 'is', 'the', 'of', 'air', 'the', 'atmosphere', 'the', 'mass', 'of', 'the', 'earth', 'holds', 'the', 'gasses', 'in', 'the', 'air', 'down', 'and', 'does', 'not', 'let', 'them', 'go', 'into', 'outer', 'space', 'the', 'air', 'is', 'mostly', 'made', 'of', 'nitrogen', 'about', '78', 'and', 'oxygen', 'about', '21', 'and', 'there', 'are', 'a', 'few', 'other', 'gasses', 'as', 'well77', 'living', 'things', 'need', 'both', 'the', 'air', 'and', 'water', 'the', 'air', 'which', 'animals', 'and', 'plants', 'use', 'to', 'live', 'is', 'only', 'the', 'first', 'level', 'of', 'the', 'air', 'around', 'the', 'earth', 'the', 'troposphere', 'the', 'day', 'to', 'day', 'changes', 'in', 'this', 'level', 'of', 'air', 'are', 'called', 'weather', 'the', 'larger', 'differences', 'between', 'distant', 'places', 'and', 'from', 'year', 'to', 'year', 'are', 'called', 'the', 'climate', 'rain', 'and', 'storms', 'come', 'about', 'because', 'this', 'part', 'of', 'the', 'air', 'gets', 'colder', 'as', 'it', 'goes', 'up', 'cold', 'air', 'becomes', 'thicker', 'and', 'falls', 'and', 'warm', 'air', 'becomes', 'thinner', 'and', 'goes', 'up78', 'the', 'turning', 'earth', 'also', 'moves', 'the', 'air', 'as', 'well', 'and', 'air', 'moves', 'north', 'and', 'south', 'because', 'the', 'middle', 'of', 'the', 'earth', 'generally', 'gets', 'more', 'power', 'from', 'the', 'sun', 'and', 'is', 'warmer', 'than', 'the', 'north', 'and', 'south', 'points', 'air', 'over', 'warm', 'water', 'evaporates', 'but', 'because', 'cold', 'air', 'is', 'not', 'able', 'to', 'take', 'in', 'as', 'much', 'water', 'it', 'starts', 'to', 'make', 'clouds', 'and', 'rain', 'as', 'it', 'gets', 'colder', 'the', 'way', 'water', 'moves', 'around', 'in', 'a', 'circle', 'like', 'this', 'is', 'called', 'the', 'water', 'cycle78', 'above', 'this', 'first', 'level', 'there', 'are', 'four', 'other', 'levels', 'the', 'air', 'gets', 'colder', 'as', 'it', 'goes', 'up', 'in', 'the', 'first', 'level', 'in', 'the', 'second', 'level', 'the', 'stratosphere', 'the', 'air', 'gets', 'warmer', 'as', 'it', 'goes', 'up', 'this', 'level', 'has', 'a', 'special', 'kind', 'of', 'oxygen', 'called', 'ozone', 'the', 'ozone', 'in', 'this', 'air', 'keeps', 'living', 'things', 'safe', 'from', 'damaging', 'rays', 'from', 'the', 'sun', 'the', 'power', 'from', 'these', 'rays', 'is', 'what', 'makes', 'this', 'level', 'warmer', 'and', 'warmer', 'the', 'middle', 'level', 'the', 'mesosphere', 'gets', 'colder', 'and', 'colder', 'with', 'height', 'the', 'fourth', 'level', 'the', 'thermosphere', 'gets', 'warmer', 'and', 'warmer', 'and', 'the', 'last', 'level', 'the', 'exosphere', 'is', 'almost', 'outer', 'space', 'and', 'has', 'very', 'little', 'air', 'at', 'all', 'it', 'reaches', 'about', 'half', 'the', 'way', 'to', 'the', 'moon', 'the', 'three', 'outer', 'levels', 'have', 'a', 'lot', 'of', 'electric', 'power', 'moving', 'through', 'them', 'this', 'is', 'called', 'the', 'ionosphere', 'and', 'is', 'important', 'for', 'radio', 'and', 'other', 'electric', 'waves', 'in', 'the', 'air', 'even', 'though', 'air', 'seems', 'very', 'light', 'the', 'weight', 'of', 'all', 'of', 'the', 'air', 'above', 'the', 'outside', 'of', 'the', 'earth', 'air', 'pressure', 'is', 'important', 'generally', 'from', 'sea', 'level', 'to', 'the', 'top', 'of', 'the', 'outer', 'level', 'of', 'the', 'air', 'a', 'space', 'of', 'air', 'one', 'cm2', 'across', 'has', 'a', 'mass', 'of', 'about', '103', 'kg', 'and', 'a', 'space', 'of', 'air', 'one', 'sq', 'in', 'across', 'has', 'a', 'weight', 'of', 'about', '147', 'lb', 'because', 'of', 'friction', 'in', 'the', 'air', 'small', 'meteorites', 'generally', 'burn', 'up', 'long', 'before', 'they', 'get', 'to', 'the', 'earth', 'the', 'air', 'also', 'keeps', 'the', 'earth', 'warm', 'specially', 'the', 'half', 'turned', 'away', 'from', 'the', 'sun', 'some', 'gasses', '–', 'especially', 'methane', 'and', 'carbon', 'dioxide', '–', 'work', 'like', 'a', 'blanket', 'to', 'keep', 'things', 'warm79', 'in', 'the', 'past', 'the', 'earth', 'has', 'been', 'much', 'warmer', 'and', 'much', 'colder', 'than', 'it', 'is', 'now', 'since', 'people', 'have', 'adapted', 'to', 'the', 'heat', 'we', 'have', 'now', 'we', 'do', 'not', 'want', 'the', 'earth', 'to', 'be', 'too', 'much', 'warmer', 'or', 'colder', 'most', 'of', 'the', 'ways', 'people', 'create', 'electric', 'power', 'use', 'burning', 'kinds', 'of', 'carbon', '–', 'especially', 'coal', 'oil', 'and', 'natural', 'gas', 'burning', 'these', 'fuels', 'creates', 'more', 'carbon', 'dioxide', 'which', 'causes', 'more', 'warming', 'a', 'discussion', 'is', 'going', 'on', 'now', 'about', 'what', 'people', 'should', 'do', 'about', 'the', 'earths', 'latest', 'warming', 'which', 'has', 'gone', 'on', 'for', 'about', '150', 'years', 'so', 'far', 'this', 'warming', 'has', 'been', 'acceptable', 'plants', 'have', 'grown', 'better', 'the', 'weather', 'has', 'generally', 'been', 'better', 'than', 'when', 'it', 'was', 'colder', 'see', 'the', 'main', 'article', 'human', 'about', 'eight', 'billion', 'people', 'live', 'on', 'earth', 'they', 'live', 'in', 'about', '200', 'different', 'lands', 'called', 'countries', 'some', 'for', 'example', 'russia', 'are', 'large', 'with', 'many', 'large', 'cities', 'others', 'for', 'example', 'vatican', 'city', 'are', 'small', 'the', 'seven', 'countries', 'with', 'the', 'most', 'people', 'are', 'india', 'china', 'the', 'united', 'states', 'indonesia', 'pakistan', 'brazil', 'and', 'nigeria', 'about', '90', 'of', 'people', 'live', 'in', 'the', 'northern', 'hemisphere', 'of', 'the', 'world', 'which', 'has', 'most', 'of', 'the', 'land', 'human', 'beings', 'originally', 'came', 'from', 'africa', 'now', '70', 'of', 'all', 'people', 'do', 'not', 'live', 'in', 'africa', 'but', 'in', 'europe', 'and', 'asia80', 'the', 'distribution', 'of', 'human', 'world', 'population', 'in', '2018', 'people', 'change', 'the', 'earth', 'in', 'many', 'ways', 'they', 'have', 'been', 'able', 'to', 'grow', 'plants', 'for', 'food', 'and', 'clothes', 'for', 'about', 'ten', 'thousand', 'years', 'when', 'there', 'was', 'enough', 'food', 'they', 'were', 'able', 'to', 'build', 'towns', 'and', 'cities', 'near', 'these', 'places', 'men', 'and', 'women', 'were', 'able', 'to', 'change', 'rivers', 'bring', 'water', 'to', 'farms', 'and', 'stop', 'floods', 'rising', 'water', 'from', 'coming', 'over', 'their', 'land', 'people', 'found', 'useful', 'animals', 'and', 'bred', 'them', 'so', 'they', 'were', 'easier', 'to', 'keep81', 'there', 'is', 'wide', 'agreement', 'that', 'the', 'longterm', 'future', 'of', 'earth', 'is', 'tied', 'to', 'the', 'future', 'of', 'the', 'sun82', 'as', 'time', 'passes', 'the', 'sun', 'will', 'get', 'hotter', 'and', 'that', 'will', 'eventually', 'make', 'the', 'earth', 'a', 'planet', 'without', 'life', 'related', 'pages', 'change', 'change', 'source']\n"
     ]
    }
   ],
   "source": [
    "#create a function to return lower case words \n",
    "def LemNormalize(text):\n",
    "  return nltk.word_tokenize(text.lower().translate(remove_punct_dict))\n",
    "print(LemNormalize(text))"
   ]
  },
  {
   "cell_type": "code",
   "execution_count": 17,
   "metadata": {},
   "outputs": [],
   "source": [
    "#keywords for greetings\n",
    "greeting_input=[\"hello\", \"hi\", \"greetings\", \"sup\", \"what's up\",\"hey\"]\n",
    "greeting_response=[\"hi\", \"hey\", \"*nods*\", \"hi there\", \"hello\", \"I am glad! You are talking to me\"]\n",
    "def greeting(sentence):\n",
    "  for word in sentence.split():\n",
    "    if word.lower() in greeting_input:\n",
    "      return random.choice(greeting_response)"
   ]
  },
  {
   "cell_type": "code",
   "execution_count": null,
   "metadata": {},
   "outputs": [
    {
     "name": "stdout",
     "output_type": "stream",
     "text": [
      "Hello! This is HKS Bot. I can answer your queries related to anything. Just provide a Wikipedia URL. Type 'bye' to exit.\n"
     ]
    },
    {
     "name": "stdin",
     "output_type": "stream",
     "text": [
      "\n",
      "USER:  hi\n"
     ]
    },
    {
     "name": "stdout",
     "output_type": "stream",
     "text": [
      "HKS BOT: hi\n"
     ]
    },
    {
     "name": "stdin",
     "output_type": "stream",
     "text": [
      "\n",
      "USER:  earth\n"
     ]
    },
    {
     "name": "stdout",
     "output_type": "stream",
     "text": [
      "HKS BOT: All places on Earth are made of, or are on top of, rocks.\n"
     ]
    },
    {
     "name": "stdin",
     "output_type": "stream",
     "text": [
      "\n",
      "USER:  earth\n"
     ]
    },
    {
     "name": "stdout",
     "output_type": "stream",
     "text": [
      "HKS BOT: All places on Earth are made of, or are on top of, rocks.\n"
     ]
    },
    {
     "name": "stdin",
     "output_type": "stream",
     "text": [
      "\n",
      "USER:  sun distance\n"
     ]
    },
    {
     "name": "stdout",
     "output_type": "stream",
     "text": [
      "HKS BOT: [40][41]\n",
      "\n",
      "Earth is about 150,000,000 kilometres or 93,000,000 miles away from the Sun (this distance is called an \"astronomical unit\" or au.\n"
     ]
    }
   ],
   "source": [
    "# Create dictionary to remove punctuation\n",
    "remove_punct_dict = dict((ord(punct), None) for punct in string.punctuation)\n",
    "\n",
    "flag = True\n",
    "print(\"Hello! This is HKS Bot. I can answer your queries related to anything. Just provide a Wikipedia URL. Type 'bye' to exit.\")\n",
    "while flag:\n",
    "    user_response = input(\"\\nUSER: \")\n",
    "    if user_response != 'bye':\n",
    "        if user_response == 'thanks' or user_response == 'thank you':\n",
    "            flag = False\n",
    "            print(\"HKS BOT: Anytime! :)\")\n",
    "        else:\n",
    "            if greeting(user_response) is not None:\n",
    "                print(\"HKS BOT: \" + greeting(user_response))\n",
    "            else:\n",
    "                print(\"HKS BOT: \" + response(user_response))\n",
    "    else:\n",
    "        flag = False\n",
    "        print(\"HKS BOT: See you later! :)\")"
   ]
  }
 ],
 "metadata": {
  "kernelspec": {
   "display_name": "Python 3 (ipykernel)",
   "language": "python",
   "name": "python3"
  },
  "language_info": {
   "codemirror_mode": {
    "name": "ipython",
    "version": 3
   },
   "file_extension": ".py",
   "mimetype": "text/x-python",
   "name": "python",
   "nbconvert_exporter": "python",
   "pygments_lexer": "ipython3",
   "version": "3.10.13"
  }
 },
 "nbformat": 4,
 "nbformat_minor": 4
}
